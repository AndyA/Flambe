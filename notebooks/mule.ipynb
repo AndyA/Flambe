{
 "cells": [
  {
   "cell_type": "code",
   "execution_count": null,
   "metadata": {},
   "outputs": [],
   "source": [
    "import altair as alt\n",
    "import polars as pl\n",
    "from pycountry import countries"
   ]
  },
  {
   "cell_type": "code",
   "execution_count": null,
   "metadata": {},
   "outputs": [],
   "source": [
    "%reload_ext sql"
   ]
  },
  {
   "cell_type": "code",
   "execution_count": null,
   "metadata": {},
   "outputs": [],
   "source": [
    "%sql duckdb:////data/duckdb/foursquare.duckdb"
   ]
  },
  {
   "cell_type": "code",
   "execution_count": null,
   "metadata": {},
   "outputs": [],
   "source": [
    "%sql df << SELECT country AS cc, COUNT(*) AS count FROM fs GROUP BY ALL ORDER BY count DESC"
   ]
  },
  {
   "cell_type": "code",
   "execution_count": null,
   "metadata": {},
   "outputs": [],
   "source": [
    "def get_country_name(code):\n",
    "    try:\n",
    "        name = countries.get(alpha_2=code).name\n",
    "        return f\"{name} ({code})\"\n",
    "    except KeyError:\n",
    "        return code"
   ]
  },
  {
   "cell_type": "code",
   "execution_count": null,
   "metadata": {},
   "outputs": [],
   "source": [
    "df = df.select(\n",
    "    pl.col(\"*\"),\n",
    "    pl.col(\"cc\")\n",
    "    .map_elements(get_country_name, return_dtype=pl.String)\n",
    "    .alias(\"country\"),\n",
    ")"
   ]
  },
  {
   "cell_type": "code",
   "execution_count": null,
   "metadata": {},
   "outputs": [],
   "source": [
    "chart = (\n",
    "    alt.Chart(df.head(40), title=\"Foursquare locations by country\")\n",
    "    .mark_bar(tooltip=True)\n",
    "    .encode(\n",
    "        alt.X(\"count\", title=\"Number of locations\"),\n",
    "        alt.Y(\"country\", sort=\"-x\", title=\"Country\"),\n",
    "        alt.Color(\"country\", sort=\"-x\"),\n",
    "    )\n",
    "    .properties(width=400)\n",
    ")\n",
    "\n",
    "alt.JupyterChart(chart)"
   ]
  },
  {
   "cell_type": "code",
   "execution_count": null,
   "metadata": {},
   "outputs": [],
   "source": [
    "%sql SELECT COUNT(*) FROM fs"
   ]
  },
  {
   "cell_type": "code",
   "execution_count": null,
   "metadata": {},
   "outputs": [],
   "source": [
    "%sql pike_df << SELECT name, address, postcode, latitude, longitude FROM fs WHERE postcode LIKE 'GL6 0%'"
   ]
  },
  {
   "cell_type": "code",
   "execution_count": null,
   "metadata": {},
   "outputs": [],
   "source": [
    "pike_chart = (\n",
    "    alt.Chart(pike_df, title=\"Foursquare locations\")\n",
    "    .mark_circle(tooltip=True)\n",
    "    .encode(\n",
    "        alt.Latitude(\"latitude:Q\"),\n",
    "        alt.Longitude(\"longitude:Q\"),\n",
    "        alt.Tooltip(\"name\"),\n",
    "    )\n",
    "    .project(\"equalEarth\", center=(-2.225, 51.69), scale=1200000)\n",
    "    .properties(width=800, height=800)\n",
    ")\n",
    "\n",
    "alt.JupyterChart(pike_chart)"
   ]
  }
 ],
 "metadata": {
  "kernelspec": {
   "display_name": ".venv",
   "language": "python",
   "name": "python3"
  },
  "language_info": {
   "codemirror_mode": {
    "name": "ipython",
    "version": 3
   },
   "file_extension": ".py",
   "mimetype": "text/x-python",
   "name": "python",
   "nbconvert_exporter": "python",
   "pygments_lexer": "ipython3",
   "version": "3.12.7"
  }
 },
 "nbformat": 4,
 "nbformat_minor": 2
}
