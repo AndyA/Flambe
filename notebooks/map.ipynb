{
 "cells": [
  {
   "cell_type": "code",
   "execution_count": 1,
   "metadata": {},
   "outputs": [],
   "source": [
    "# import duckdb\n",
    "# import polars as pl\n",
    "from operator import itemgetter\n",
    "from ipyleaflet import Map, Marker\n",
    "from ipywidgets import Layout, HTML"
   ]
  },
  {
   "cell_type": "code",
   "execution_count": 2,
   "metadata": {},
   "outputs": [
    {
     "data": {
      "text/html": [
       "<span style=\"None\">Loading configurations from /home/andy/Works/Python/Flambe/pyproject.toml.</span>"
      ],
      "text/plain": [
       "Loading configurations from /home/andy/Works/Python/Flambe/pyproject.toml."
      ]
     },
     "metadata": {},
     "output_type": "display_data"
    },
    {
     "data": {
      "text/html": [
       "<span style=\"None\">Settings changed:</span>"
      ],
      "text/plain": [
       "Settings changed:"
      ]
     },
     "metadata": {},
     "output_type": "display_data"
    },
    {
     "data": {
      "text/html": [
       "\n",
       "<table>\n",
       "    <thead>\n",
       "        <tr>\n",
       "            <th>Config</th>\n",
       "            <th>value</th>\n",
       "        </tr>\n",
       "    </thead>\n",
       "    <tbody>\n",
       "        <tr>\n",
       "            <td>feedback</td>\n",
       "            <td>False</td>\n",
       "        </tr>\n",
       "        <tr>\n",
       "            <td>autopandas</td>\n",
       "            <td>False</td>\n",
       "        </tr>\n",
       "        <tr>\n",
       "            <td>autopolars</td>\n",
       "            <td>True</td>\n",
       "        </tr>\n",
       "        <tr>\n",
       "            <td>displaycon</td>\n",
       "            <td>False</td>\n",
       "        </tr>\n",
       "        <tr>\n",
       "            <td>displaylimit</td>\n",
       "            <td>1000</td>\n",
       "        </tr>\n",
       "    </tbody>\n",
       "</table>"
      ],
      "text/plain": [
       "\n",
       "+--------------+-------+\n",
       "|    Config    | value |\n",
       "+--------------+-------+\n",
       "|   feedback   | False |\n",
       "|  autopandas  | False |\n",
       "|  autopolars  |  True |\n",
       "|  displaycon  | False |\n",
       "| displaylimit |  1000 |\n",
       "+--------------+-------+"
      ]
     },
     "metadata": {},
     "output_type": "display_data"
    }
   ],
   "source": [
    "%reload_ext sql"
   ]
  },
  {
   "cell_type": "code",
   "execution_count": 3,
   "metadata": {},
   "outputs": [],
   "source": [
    "%sql duckdb:////data/duckdb/foursquare.duckdb"
   ]
  },
  {
   "cell_type": "code",
   "execution_count": 4,
   "metadata": {},
   "outputs": [
    {
     "data": {
      "text/html": [
       "<div><style>\n",
       ".dataframe > thead > tr,\n",
       ".dataframe > tbody > tr {\n",
       "  text-align: right;\n",
       "  white-space: pre-wrap;\n",
       "}\n",
       "</style>\n",
       "<small>shape: (0, 1)</small><table border=\"1\" class=\"dataframe\"><thead><tr><th>Success</th></tr><tr><td>bool</td></tr></thead><tbody></tbody></table></div>"
      ],
      "text/plain": [
       "shape: (0, 1)\n",
       "┌─────────┐\n",
       "│ Success │\n",
       "│ ---     │\n",
       "│ bool    │\n",
       "╞═════════╡\n",
       "└─────────┘"
      ]
     },
     "execution_count": 4,
     "metadata": {},
     "output_type": "execute_result"
    }
   ],
   "source": [
    "%%sql\n",
    "INSTALL httpfs;\n",
    "LOAD httpfs;\n",
    "INSTALL spatial;\n",
    "LOAD spatial;"
   ]
  },
  {
   "cell_type": "code",
   "execution_count": 5,
   "metadata": {},
   "outputs": [],
   "source": [
    "pike_lane_cottage = (51.69220544124235, -2.222896814346314)\n",
    "home_lat, home_lon = pike_lane_cottage"
   ]
  },
  {
   "cell_type": "code",
   "execution_count": 6,
   "metadata": {},
   "outputs": [
    {
     "data": {
      "application/vnd.jupyter.widget-view+json": {
       "model_id": "6f983528b6f04e8bb6c0d1cf0b3666a3",
       "version_major": 2,
       "version_minor": 0
      },
      "text/plain": [
       "FloatProgress(value=0.0, layout=Layout(width='auto'), style=ProgressStyle(bar_color='black'))"
      ]
     },
     "metadata": {},
     "output_type": "display_data"
    }
   ],
   "source": [
    "%%sql \n",
    "pike_df << SELECT name, website, address, locality, region, postcode, country, \n",
    "                  latitude, longitude, point, \n",
    "                  ST_Distance(point, ST_Point({{home_lat}}, {{home_lon}})) AS distance\n",
    "             FROM fs \n",
    "            WHERE postcode LIKE 'GL6 %'\n",
    "            ORDER BY distance ASC"
   ]
  },
  {
   "cell_type": "code",
   "execution_count": 7,
   "metadata": {},
   "outputs": [
    {
     "name": "stdout",
     "output_type": "stream",
     "text": [
      "shape: (1_373, 11)\n",
      "┌───────────┬───────────┬───────────┬───────────┬───┬───────────┬───────────┬───────────┬──────────┐\n",
      "│ name      ┆ website   ┆ address   ┆ locality  ┆ … ┆ latitude  ┆ longitude ┆ point     ┆ distance │\n",
      "│ ---       ┆ ---       ┆ ---       ┆ ---       ┆   ┆ ---       ┆ ---       ┆ ---       ┆ ---      │\n",
      "│ str       ┆ str       ┆ str       ┆ str       ┆   ┆ f64       ┆ f64       ┆ binary    ┆ f64      │\n",
      "╞═══════════╪═══════════╪═══════════╪═══════════╪═══╪═══════════╪═══════════╪═══════════╪══════════╡\n",
      "│ Garling   ┆ http://ww ┆ Gigg      ┆ Nailswort ┆ … ┆ 51.692178 ┆ -2.222711 ┆ b\"\\x00\\x0 ┆ 0.000188 │\n",
      "│ Consultin ┆ w.roberto ┆ Mill, Old ┆ h         ┆   ┆           ┆           ┆ 0\\x00\\x00 ┆          │\n",
      "│ g         ┆ piecollec ┆ Bristol   ┆           ┆   ┆           ┆           ┆ \\x00\\x00\\ ┆          │\n",
      "│           ┆ tio…      ┆ Rd Unit…  ┆           ┆   ┆           ┆           ┆ x00…      ┆          │\n",
      "│ Mumford   ┆ null      ┆ Gigg Mill ┆ Nailswort ┆ … ┆ 51.692178 ┆ -2.222711 ┆ b\"\\x00\\x0 ┆ 0.000188 │\n",
      "│ Specialis ┆           ┆           ┆ h         ┆   ┆           ┆           ┆ 0\\x00\\x00 ┆          │\n",
      "│ t         ┆           ┆           ┆           ┆   ┆           ┆           ┆ \\x00\\x00\\ ┆          │\n",
      "│ Vehicles  ┆           ┆           ┆           ┆   ┆           ┆           ┆ x00…      ┆          │\n",
      "│ Trickster ┆ null      ┆ Gigg      ┆ Nailswort ┆ … ┆ 51.69236  ┆ -2.222422 ┆ b\"\\x00\\x0 ┆ 0.000499 │\n",
      "│ Productio ┆           ┆ Mill, Old ┆ h         ┆   ┆           ┆           ┆ 0\\x00\\x00 ┆          │\n",
      "│ ns        ┆           ┆ Bristol   ┆           ┆   ┆           ┆           ┆ \\x00\\x00\\ ┆          │\n",
      "│           ┆           ┆ Rd        ┆           ┆   ┆           ┆           ┆ x00…      ┆          │\n",
      "│ Stroud    ┆ null      ┆ Gigg Mill ┆ Nailswort ┆ … ┆ 51.69236  ┆ -2.222422 ┆ b\"\\x00\\x0 ┆ 0.000499 │\n",
      "│ Building  ┆           ┆ Old       ┆ h         ┆   ┆           ┆           ┆ 0\\x00\\x00 ┆          │\n",
      "│           ┆           ┆ Bristol   ┆           ┆   ┆           ┆           ┆ \\x00\\x00\\ ┆          │\n",
      "│           ┆           ┆ Rd        ┆           ┆   ┆           ┆           ┆ x00…      ┆          │\n",
      "│ The Wire  ┆ http://ww ┆ Gigg      ┆ Nailswort ┆ … ┆ 51.691586 ┆ -2.222588 ┆ b\"\\x00\\x0 ┆ 0.000692 │\n",
      "│ Watcher   ┆ w.wirewat ┆ Mill, Old ┆ h         ┆   ┆           ┆           ┆ 0\\x00\\x00 ┆          │\n",
      "│ Co        ┆ cher.co.u ┆ Bristol   ┆           ┆   ┆           ┆           ┆ \\x00\\x00\\ ┆          │\n",
      "│           ┆ k         ┆ Rd        ┆           ┆   ┆           ┆           ┆ x00…      ┆          │\n",
      "│ …         ┆ …         ┆ …         ┆ …         ┆ … ┆ …         ┆ …         ┆ …         ┆ …        │\n",
      "│ Stumpbust ┆ http://ww ┆ Old Off   ┆ Westrip   ┆ … ┆ null      ┆ null      ┆ null      ┆ null     │\n",
      "│ ers       ┆ w.stumpbu ┆ Licence   ┆           ┆   ┆           ┆           ┆           ┆          │\n",
      "│           ┆ sters.co. ┆ Cottage   ┆           ┆   ┆           ┆           ┆           ┆          │\n",
      "│           ┆ uk        ┆           ┆           ┆   ┆           ┆           ┆           ┆          │\n",
      "│ Skybet    ┆ null      ┆ 95 Earls  ┆ Whiteway  ┆ … ┆ null      ┆ null      ┆ null      ┆ null     │\n",
      "│ Login     ┆           ┆ Ave       ┆           ┆   ┆           ┆           ┆           ┆          │\n",
      "│ Rachel    ┆ http://ww ┆ Smith     ┆ Nailswort ┆ … ┆ null      ┆ null      ┆ null      ┆ null     │\n",
      "│ Stevens   ┆ w.backcar ┆ House,    ┆ h         ┆   ┆           ┆           ┆           ┆          │\n",
      "│ STAT CNHC ┆ eandpostu ┆ George St ┆           ┆   ┆           ┆           ┆           ┆          │\n",
      "│           ┆ re.…      ┆           ┆           ┆   ┆           ┆           ┆           ┆          │\n",
      "│ Garden    ┆ null      ┆ Blackwort ┆ Highworth ┆ … ┆ null      ┆ null      ┆ null      ┆ null     │\n",
      "│ Netting   ┆           ┆ h Industr ┆           ┆   ┆           ┆           ┆           ┆          │\n",
      "│           ┆           ┆ ial       ┆           ┆   ┆           ┆           ┆           ┆          │\n",
      "│           ┆           ┆ Estate U… ┆           ┆   ┆           ┆           ┆           ┆          │\n",
      "│ Vale      ┆ http://ww ┆ Vale      ┆ Chalford  ┆ … ┆ null      ┆ null      ┆ null      ┆ null     │\n",
      "│ House     ┆ w.cwp.nhs ┆ House,    ┆           ┆   ┆           ┆           ┆           ┆          │\n",
      "│           ┆ .uk/locat ┆ High St   ┆           ┆   ┆           ┆           ┆           ┆          │\n",
      "│           ┆ ion…      ┆           ┆           ┆   ┆           ┆           ┆           ┆          │\n",
      "└───────────┴───────────┴───────────┴───────────┴───┴───────────┴───────────┴───────────┴──────────┘\n"
     ]
    }
   ],
   "source": [
    "print(pike_df)"
   ]
  },
  {
   "cell_type": "code",
   "execution_count": 8,
   "metadata": {},
   "outputs": [
    {
     "name": "stdout",
     "output_type": "stream",
     "text": [
      "Rows: 1373\n",
      "Columns: 11\n",
      "$ name         <str> 'Garling Consulting', 'Mumford Specialist Vehicles', 'Trickster Productions', 'Stroud Building', 'The Wire Watcher Co', 'Danarm', 'Harley Musical Instruments', 'Passward Financial Planning', 'G E', 'IDig3Dprinting'\n",
      "$ website      <str> 'http://www.robertopiecollection.com', None, None, None, 'http://www.wirewatcher.co.uk', 'http://www.danarm.com', None, None, 'http://www.geeltd.co.uk', 'http://www.idig3dprinting.co.uk'\n",
      "$ address      <str> 'Gigg Mill, Old Bristol Rd Unit 6', 'Gigg Mill', 'Gigg Mill, Old Bristol Rd', 'Gigg Mill Old Bristol Rd', 'Gigg Mill, Old Bristol Rd', 'Gigg Mill, Old Bristol Rd Unit 1', 'Gigg Mill, Old Bristol Rd', 'Gigg Mill, Old Bristol Rd', 'Gigg Mill, Old Bristol Rd', None\n",
      "$ locality     <str> 'Nailsworth', 'Nailsworth', 'Nailsworth', 'Nailsworth', 'Nailsworth', 'Nailsworth', 'Nailsworth', 'Nailsworth', 'Nailsworth', 'Nailsworth'\n",
      "$ region       <str> 'Gloucestershire', 'Gloucestershire', 'Gloucestershire', 'Gloucestershire', 'Gloucestershire', 'Gloucestershire', 'Gloucestershire', 'Gloucestershire', 'Gloucestershire', 'Gloucestershire'\n",
      "$ postcode     <str> 'GL6 0JP', 'GL6 0JP', 'GL6 0JP', 'GL6 0JP', 'GL6 0JP', 'GL6 0JP', 'GL6 0JP', 'GL6 0JP', 'GL6 0JP', 'GL6 0JF'\n",
      "$ country      <str> 'GB', 'GB', 'GB', 'GB', 'GB', 'GB', 'GB', 'GB', 'GB', 'GB'\n",
      "$ latitude     <f64> 51.692178273563265, 51.692178, 51.692360145284546, 51.692360145284546, 51.691586, 51.69164820073553, 51.69137715006587, 51.691327, 51.691452, 51.6911867680274\n",
      "$ longitude    <f64> -2.2227111846014225, -2.222711, -2.222421878207568, -2.222421878207568, -2.222588, -2.2224599051330447, -2.2224302369399136, -2.222367, -2.22211, -2.221984238346175\n",
      "$ point     <binary> b'\\x00\\x00\\x00\\x00\\x00\\x00\\x00\\x00\\x00\\x00\\x00\\x00\\x01\\x00\\x00\\x00]\\xfa3L\\x99\\xd8I@@\\x882\\xcd\\x1c\\xc8\\x01\\xc0', b'\\x00\\x00\\x00\\x00\\x00\\x00\\x00\\x00\\x00\\x00\\x00\\x00\\x01\\x00\\x00\\x00^\\x81\\xe8I\\x99\\xd8I@\\xf7\\xack\\xb4\\x1c\\xc8\\x01\\xc0', b'\\x00\\x00\\x00\\x00\\x00\\x00\\x00\\x00\\x00\\x00\\x00\\x00\\x01\\x00\\x00\\x00\\x85\\x86\\xdaA\\x9f\\xd8I@\\xfd\\x87&\\x1f\\x85\\xc7\\x01\\xc0', b'\\x00\\x00\\x00\\x00\\x00\\x00\\x00\\x00\\x00\\x00\\x00\\x00\\x01\\x00\\x00\\x00\\x85\\x86\\xdaA\\x9f\\xd8I@\\xfd\\x87&\\x1f\\x85\\xc7\\x01\\xc0', b'\\x00\\x00\\x00\\x00\\x00\\x00\\x00\\x00\\x00\\x00\\x00\\x00\\x01\\x00\\x00\\x00\\x8c/\\xda\\xe3\\x85\\xd8I@<\\xdb\\xa37\\xdc\\xc7\\x01\\xc0', b'\\x00\\x00\\x00\\x00\\x00\\x00\\x00\\x00\\x00\\x00\\x00\\x00\\x01\\x00\\x00\\x00\\x88?\\xa1\\xed\\x87\\xd8I@\\xd4\\xbd\\t\\x0f\\x99\\xc7\\x01\\xc0', b'\\x00\\x00\\x00\\x00\\x00\\x00\\x00\\x00\\x00\\x00\\x00\\x00\\x01\\x00\\x00\\x00\\x07^\\xe4\\x0b\\x7f\\xd8I@?c\\n\\x81\\x89\\xc7\\x01\\xc0', b'\\x00\\x00\\x00\\x00\\x00\\x00\\x00\\x00\\x00\\x00\\x00\\x00\\x01\\x00\\x00\\x00\\xc0\\xeb3g}\\xd8I@T\\xad\\x85Yh\\xc7\\x01\\xc0', b'\\x00\\x00\\x00\\x00\\x00\\x00\\x00\\x00\\x00\\x00\\x00\\x00\\x01\\x00\\x00\\x00|`\\xc7\\x7f\\x81\\xd8I@\\x9e\\xea\\x90\\x9b\\xe1\\xc6\\x01\\xc0', b'\\x00\\x00\\x00\\x00\\x00\\x00\\x00\\x00\\x00\\x00\\x00\\x00\\x01\\x00\\x00\\x00\\x85\\r\\xda\\xcex\\xd8I@\\xf3d\\x1f\\xac\\x9f\\xc6\\x01\\xc0'\n",
      "$ distance     <f64> 0.00018760726258698173, 0.00018782969168357414, 0.0004994974239756342, 0.0004994974239756342, 0.0006921515391971774, 0.0007081007294749391, 0.0009506633206354938, 0.001025847092806882, 0.00108938079717025, 0.0013676586105044839\n",
      "\n",
      "None\n"
     ]
    }
   ],
   "source": [
    "print(pike_df.glimpse())"
   ]
  },
  {
   "cell_type": "code",
   "execution_count": null,
   "metadata": {},
   "outputs": [
    {
     "data": {
      "application/vnd.jupyter.widget-view+json": {
       "model_id": "97e2a2e2c758404baba0b1cbc4d759b7",
       "version_major": 2,
       "version_minor": 0
      },
      "text/plain": [
       "Map(center=[51.69220544124235, -2.222896814346314], controls=(ZoomControl(options=['position', 'zoom_in_text',…"
      ]
     },
     "metadata": {},
     "output_type": "display_data"
    }
   ],
   "source": [
    "map = Map(\n",
    "    center=pike_lane_cottage,\n",
    "    zoom=15,\n",
    "    layout=Layout(width=\"100%\", height=\"800px\"),\n",
    ")\n",
    "\n",
    "\n",
    "def on_location_changed(event):\n",
    "    print(event)\n",
    "\n",
    "\n",
    "home = Marker(\n",
    "    location=pike_lane_cottage,\n",
    "    draggable=True,\n",
    "    color=\"red\",\n",
    ")\n",
    "home.observe(on_location_changed, \"location\")\n",
    "map.add(home)\n",
    "\n",
    "get_addr = itemgetter(\n",
    "    \"address\",\n",
    "    \"locality\",\n",
    "    \"region\",\n",
    "    \"postcode\",\n",
    "    \"country\",\n",
    ")\n",
    "\n",
    "for place in pike_df.head(500).to_dicts():\n",
    "    marker = Marker(\n",
    "        location=(place[\"latitude\"], place[\"longitude\"]),\n",
    "        title=place[\"name\"],\n",
    "        draggable=False,\n",
    "    )\n",
    "\n",
    "    name = place[\"name\"]\n",
    "    if place[\"website\"]:\n",
    "        name = f'<a href=\"{place[\"website\"]}\">{name}</a>'\n",
    "\n",
    "    address_parts = [part for part in get_addr(place) if part is not None]\n",
    "    address = \"<br>\".join(address_parts)\n",
    "\n",
    "    popup = HTML()\n",
    "    popup.value = f\"<h3>{name}</h3><div>{address}</div>\"\n",
    "    marker.popup = popup\n",
    "    map.add(marker)\n",
    "\n",
    "display(map)"
   ]
  }
 ],
 "metadata": {
  "kernelspec": {
   "display_name": ".venv",
   "language": "python",
   "name": "python3"
  },
  "language_info": {
   "codemirror_mode": {
    "name": "ipython",
    "version": 3
   },
   "file_extension": ".py",
   "mimetype": "text/x-python",
   "name": "python",
   "nbconvert_exporter": "python",
   "pygments_lexer": "ipython3",
   "version": "3.12.7"
  }
 },
 "nbformat": 4,
 "nbformat_minor": 2
}
