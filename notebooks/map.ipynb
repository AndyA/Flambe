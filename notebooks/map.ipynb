{
 "cells": [
  {
   "cell_type": "code",
   "execution_count": null,
   "metadata": {},
   "outputs": [],
   "source": [
    "# import duckdb\n",
    "import polars as pl\n",
    "from operator import itemgetter\n",
    "from ipyleaflet import Map, Marker, AwesomeIcon\n",
    "from ipywidgets import Layout, HTML"
   ]
  },
  {
   "cell_type": "code",
   "execution_count": null,
   "metadata": {},
   "outputs": [],
   "source": [
    "pl.Config.set_fmt_str_lengths(900)"
   ]
  },
  {
   "cell_type": "code",
   "execution_count": null,
   "metadata": {},
   "outputs": [],
   "source": [
    "%reload_ext sql"
   ]
  },
  {
   "cell_type": "code",
   "execution_count": null,
   "metadata": {},
   "outputs": [],
   "source": [
    "%sql duckdb:////data/duckdb/foursquare.duckdb"
   ]
  },
  {
   "cell_type": "code",
   "execution_count": null,
   "metadata": {},
   "outputs": [],
   "source": [
    "%%sql\n",
    "INSTALL httpfs;\n",
    "LOAD httpfs;\n",
    "INSTALL spatial;\n",
    "LOAD spatial;"
   ]
  },
  {
   "cell_type": "code",
   "execution_count": null,
   "metadata": {},
   "outputs": [],
   "source": [
    "%%sql\n",
    "SELECT COUNT(*) AS links\n",
    "  FROM fs\n",
    " WHERE website IS NOT NULL\n"
   ]
  },
  {
   "cell_type": "code",
   "execution_count": null,
   "metadata": {},
   "outputs": [],
   "source": [
    "%%sql\n",
    "SELECT * from categories \n",
    "WHERE fsq_category_label LIKE '%istor%'"
   ]
  },
  {
   "cell_type": "code",
   "execution_count": null,
   "metadata": {},
   "outputs": [],
   "source": [
    "home_location = (51.69220544124235, -2.222896814346314)\n",
    "# home_location = (55.32102, -1.89418)\n",
    "home_lat, home_lon = home_location\n",
    "\n",
    "bikes = \"4bf58dd8d48988d115951735\"\n",
    "music = \"4bf58dd8d48988d1fe941735\"\n",
    "venue = \"4bf58dd8d48988d1f2931735\"\n",
    "sites = \"4deefb944765f83613cdba6e\""
   ]
  },
  {
   "cell_type": "code",
   "execution_count": null,
   "metadata": {},
   "outputs": [],
   "source": [
    "%%sql\n",
    "DROP TABLE IF EXISTS subset"
   ]
  },
  {
   "cell_type": "code",
   "execution_count": null,
   "metadata": {},
   "outputs": [],
   "source": [
    "%%sql\n",
    "CREATE TABLE IF NOT EXISTS subset AS \n",
    " FROM gb \n",
    "WHERE contains(fsq_category_ids, '{{sites}}')"
   ]
  },
  {
   "cell_type": "code",
   "execution_count": null,
   "metadata": {},
   "outputs": [],
   "source": [
    "%%sql \n",
    "pike_df << SELECT name, website, address, locality, region, postcode, country, \n",
    "                  latitude, longitude, point, \n",
    "                  ST_Distance(point, ST_Point({{home_lat}}, {{home_lon}})) AS distance\n",
    "             FROM subset\n",
    "            WHERE ST_DWithin(point, ST_Point({{home_lat}}, {{home_lon}}), 100)\n",
    "            ORDER BY distance ASC"
   ]
  },
  {
   "cell_type": "code",
   "execution_count": null,
   "metadata": {},
   "outputs": [],
   "source": [
    "print(pike_df)"
   ]
  },
  {
   "cell_type": "code",
   "execution_count": null,
   "metadata": {},
   "outputs": [],
   "source": [
    "map = Map(\n",
    "    center=home_location,\n",
    "    zoom=15,\n",
    "    layout=Layout(width=\"100%\", height=\"800px\"),\n",
    ")\n",
    "\n",
    "home_icon = AwesomeIcon(\n",
    "    name=\"home\",\n",
    "    marker_color=\"orange\",\n",
    "    icon_color=\"white\",\n",
    "    spin=False,\n",
    ")\n",
    "\n",
    "home = Marker(\n",
    "    location=home_location,\n",
    "    draggable=False,\n",
    "    color=\"red\",\n",
    "    icon=home_icon,\n",
    "    title=\"Pike Lane Cottage\",\n",
    "    z_index_offset=1000,\n",
    ")\n",
    "\n",
    "map.add(home)\n",
    "\n",
    "\n",
    "get_addr = itemgetter(\n",
    "    \"address\",\n",
    "    \"locality\",\n",
    "    \"region\",\n",
    "    \"postcode\",\n",
    "    \"country\",\n",
    ")\n",
    "\n",
    "empty_icon = AwesomeIcon(\n",
    "    name=\"question\",\n",
    "    marker_color=\"green\",\n",
    "    icon_color=\"white\",\n",
    "    spin=False,\n",
    ")\n",
    "\n",
    "link_icon = AwesomeIcon(\n",
    "    name=\"link\",\n",
    "    marker_color=\"blue\",\n",
    "    icon_color=\"white\",\n",
    "    spin=False,\n",
    ")\n",
    "\n",
    "for place in pike_df.head(500).to_dicts():\n",
    "    name = place[\"name\"]\n",
    "    marker_icon = empty_icon\n",
    "    z_index = 0\n",
    "    if place[\"website\"]:\n",
    "        name = f'<a href=\"{place[\"website\"]}\">{name}</a>'\n",
    "        marker_icon = link_icon\n",
    "        z_index = 100\n",
    "\n",
    "    marker = Marker(\n",
    "        location=(place[\"latitude\"], place[\"longitude\"]),\n",
    "        title=place[\"name\"],\n",
    "        draggable=False,\n",
    "        icon=marker_icon,\n",
    "        z_index_offset=z_index,\n",
    "    )\n",
    "\n",
    "    address_parts = [part for part in get_addr(place) if part is not None]\n",
    "    address = \"<br>\".join(address_parts)\n",
    "\n",
    "    popup = HTML()\n",
    "    popup.value = f\"<h3>{name}</h3><div>{address}</div>\"\n",
    "    marker.popup = popup\n",
    "    map.add(marker)\n",
    "\n",
    "\n",
    "display(map)"
   ]
  }
 ],
 "metadata": {
  "kernelspec": {
   "display_name": ".venv",
   "language": "python",
   "name": "python3"
  },
  "language_info": {
   "codemirror_mode": {
    "name": "ipython",
    "version": 3
   },
   "file_extension": ".py",
   "mimetype": "text/x-python",
   "name": "python",
   "nbconvert_exporter": "python",
   "pygments_lexer": "ipython3",
   "version": "3.12.7"
  }
 },
 "nbformat": 4,
 "nbformat_minor": 2
}
